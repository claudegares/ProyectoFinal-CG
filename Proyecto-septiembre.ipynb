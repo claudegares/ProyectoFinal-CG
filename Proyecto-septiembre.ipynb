{
 "cells": [
  {
   "cell_type": "markdown",
   "id": "23089b87-893e-4e09-9386-3bf587c6b1d3",
   "metadata": {},
   "source": [
    "## Establecer el entorno"
   ]
  },
  {
   "cell_type": "code",
   "execution_count": 2,
   "id": "7d1d4813-fe6e-4330-9912-12cc1c9abc39",
   "metadata": {},
   "outputs": [],
   "source": [
    "#Establezco el entorno \n",
    "import pandas as pd\n",
    "import seaborn as sns\n",
    "import matplotlib.pyplot as plt\n",
    "import numpy as np\n",
    "from sklearn.preprocessing import StandardScaler\n",
    "from sklearn.preprocessing import OneHotEncoder\n",
    "from sklearn.model_selection import train_test_split"
   ]
  },
  {
   "cell_type": "code",
   "execution_count": null,
   "id": "896e827d-8f23-4bcd-8965-f63c0a08dfcf",
   "metadata": {},
   "outputs": [],
   "source": [
    "## Establecer el entorno"
   ]
  }
 ],
 "metadata": {
  "kernelspec": {
   "display_name": "Python 3 (ipykernel)",
   "language": "python",
   "name": "python3"
  },
  "language_info": {
   "codemirror_mode": {
    "name": "ipython",
    "version": 3
   },
   "file_extension": ".py",
   "mimetype": "text/x-python",
   "name": "python",
   "nbconvert_exporter": "python",
   "pygments_lexer": "ipython3",
   "version": "3.9.13"
  }
 },
 "nbformat": 4,
 "nbformat_minor": 5
}
